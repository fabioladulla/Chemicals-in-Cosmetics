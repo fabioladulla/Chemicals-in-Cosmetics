{
 "cells": [
  {
   "cell_type": "code",
   "execution_count": 1,
   "id": "0a580e4c-7c1e-455d-bd5b-ef1fe8b4ab14",
   "metadata": {},
   "outputs": [],
   "source": [
    "import pandas as pd\n",
    "import numpy as np"
   ]
  },
  {
   "cell_type": "code",
   "execution_count": 2,
   "id": "4865ff46-14fc-4b0e-a0d1-0078c197111a",
   "metadata": {},
   "outputs": [
    {
     "data": {
      "text/html": [
       "<div>\n",
       "<style scoped>\n",
       "    .dataframe tbody tr th:only-of-type {\n",
       "        vertical-align: middle;\n",
       "    }\n",
       "\n",
       "    .dataframe tbody tr th {\n",
       "        vertical-align: top;\n",
       "    }\n",
       "\n",
       "    .dataframe thead th {\n",
       "        text-align: right;\n",
       "    }\n",
       "</style>\n",
       "<table border=\"1\" class=\"dataframe\">\n",
       "  <thead>\n",
       "    <tr style=\"text-align: right;\">\n",
       "      <th></th>\n",
       "      <th>CDPHId</th>\n",
       "      <th>ProductName</th>\n",
       "      <th>CSFId</th>\n",
       "      <th>CSF</th>\n",
       "      <th>CompanyId</th>\n",
       "      <th>CompanyName</th>\n",
       "      <th>BrandName</th>\n",
       "      <th>PrimaryCategoryId</th>\n",
       "      <th>PrimaryCategory</th>\n",
       "      <th>SubCategoryId</th>\n",
       "      <th>...</th>\n",
       "      <th>CasNumber</th>\n",
       "      <th>ChemicalId</th>\n",
       "      <th>ChemicalName</th>\n",
       "      <th>InitialDateReported</th>\n",
       "      <th>MostRecentDateReported</th>\n",
       "      <th>DiscontinuedDate</th>\n",
       "      <th>ChemicalCreatedAt</th>\n",
       "      <th>ChemicalUpdatedAt</th>\n",
       "      <th>ChemicalDateRemoved</th>\n",
       "      <th>ChemicalCount</th>\n",
       "    </tr>\n",
       "  </thead>\n",
       "  <tbody>\n",
       "    <tr>\n",
       "      <th>0</th>\n",
       "      <td>2</td>\n",
       "      <td>ULTRA COLOR RICH EXTRA PLUMP LIPSTICK-ALL SHADES</td>\n",
       "      <td>NaN</td>\n",
       "      <td>NaN</td>\n",
       "      <td>4</td>\n",
       "      <td>New Avon LLC</td>\n",
       "      <td>AVON</td>\n",
       "      <td>44</td>\n",
       "      <td>Makeup Products (non-permanent)</td>\n",
       "      <td>53</td>\n",
       "      <td>...</td>\n",
       "      <td>13463-67-7</td>\n",
       "      <td>6</td>\n",
       "      <td>Titanium dioxide</td>\n",
       "      <td>06/17/2009</td>\n",
       "      <td>08/28/2013</td>\n",
       "      <td>02/01/2011</td>\n",
       "      <td>07/09/2009</td>\n",
       "      <td>07/09/2009</td>\n",
       "      <td>NaN</td>\n",
       "      <td>1</td>\n",
       "    </tr>\n",
       "    <tr>\n",
       "      <th>1</th>\n",
       "      <td>3</td>\n",
       "      <td>Glover's Medicated Shampoo</td>\n",
       "      <td>NaN</td>\n",
       "      <td>NaN</td>\n",
       "      <td>338</td>\n",
       "      <td>J. Strickland &amp; Co.</td>\n",
       "      <td>Glover's</td>\n",
       "      <td>18</td>\n",
       "      <td>Hair Care Products (non-coloring)</td>\n",
       "      <td>25</td>\n",
       "      <td>...</td>\n",
       "      <td>65996-92-1</td>\n",
       "      <td>4</td>\n",
       "      <td>Distillates (coal tar)</td>\n",
       "      <td>07/01/2009</td>\n",
       "      <td>07/01/2009</td>\n",
       "      <td>NaN</td>\n",
       "      <td>07/01/2009</td>\n",
       "      <td>07/01/2009</td>\n",
       "      <td>NaN</td>\n",
       "      <td>2</td>\n",
       "    </tr>\n",
       "    <tr>\n",
       "      <th>2</th>\n",
       "      <td>3</td>\n",
       "      <td>Glover's Medicated Shampoo</td>\n",
       "      <td>NaN</td>\n",
       "      <td>NaN</td>\n",
       "      <td>338</td>\n",
       "      <td>J. Strickland &amp; Co.</td>\n",
       "      <td>Glover's</td>\n",
       "      <td>18</td>\n",
       "      <td>Hair Care Products (non-coloring)</td>\n",
       "      <td>25</td>\n",
       "      <td>...</td>\n",
       "      <td>140-67-0</td>\n",
       "      <td>5</td>\n",
       "      <td>Estragole</td>\n",
       "      <td>07/01/2009</td>\n",
       "      <td>07/01/2009</td>\n",
       "      <td>NaN</td>\n",
       "      <td>07/02/2009</td>\n",
       "      <td>07/02/2009</td>\n",
       "      <td>NaN</td>\n",
       "      <td>2</td>\n",
       "    </tr>\n",
       "    <tr>\n",
       "      <th>3</th>\n",
       "      <td>4</td>\n",
       "      <td>PRECISION GLIMMER EYE LINER-ALL SHADES �</td>\n",
       "      <td>NaN</td>\n",
       "      <td>NaN</td>\n",
       "      <td>4</td>\n",
       "      <td>New Avon LLC</td>\n",
       "      <td>AVON</td>\n",
       "      <td>44</td>\n",
       "      <td>Makeup Products (non-permanent)</td>\n",
       "      <td>46</td>\n",
       "      <td>...</td>\n",
       "      <td>13463-67-7</td>\n",
       "      <td>7</td>\n",
       "      <td>Titanium dioxide</td>\n",
       "      <td>07/09/2009</td>\n",
       "      <td>08/28/2013</td>\n",
       "      <td>NaN</td>\n",
       "      <td>07/09/2009</td>\n",
       "      <td>07/09/2009</td>\n",
       "      <td>NaN</td>\n",
       "      <td>1</td>\n",
       "    </tr>\n",
       "    <tr>\n",
       "      <th>4</th>\n",
       "      <td>5</td>\n",
       "      <td>AVON BRILLIANT SHINE LIP GLOSS-ALL SHADES �</td>\n",
       "      <td>NaN</td>\n",
       "      <td>NaN</td>\n",
       "      <td>4</td>\n",
       "      <td>New Avon LLC</td>\n",
       "      <td>AVON</td>\n",
       "      <td>44</td>\n",
       "      <td>Makeup Products (non-permanent)</td>\n",
       "      <td>52</td>\n",
       "      <td>...</td>\n",
       "      <td>13463-67-7</td>\n",
       "      <td>8</td>\n",
       "      <td>Titanium dioxide</td>\n",
       "      <td>07/09/2009</td>\n",
       "      <td>08/28/2013</td>\n",
       "      <td>02/01/2011</td>\n",
       "      <td>07/09/2009</td>\n",
       "      <td>07/09/2009</td>\n",
       "      <td>NaN</td>\n",
       "      <td>1</td>\n",
       "    </tr>\n",
       "  </tbody>\n",
       "</table>\n",
       "<p>5 rows × 22 columns</p>\n",
       "</div>"
      ],
      "text/plain": [
       "   CDPHId                                       ProductName  CSFId  CSF  \\\n",
       "0       2  ULTRA COLOR RICH EXTRA PLUMP LIPSTICK-ALL SHADES    NaN  NaN   \n",
       "1       3                        Glover's Medicated Shampoo    NaN  NaN   \n",
       "2       3                        Glover's Medicated Shampoo    NaN  NaN   \n",
       "3       4          PRECISION GLIMMER EYE LINER-ALL SHADES �    NaN  NaN   \n",
       "4       5       AVON BRILLIANT SHINE LIP GLOSS-ALL SHADES �    NaN  NaN   \n",
       "\n",
       "   CompanyId          CompanyName BrandName  PrimaryCategoryId  \\\n",
       "0          4         New Avon LLC      AVON                 44   \n",
       "1        338  J. Strickland & Co.  Glover's                 18   \n",
       "2        338  J. Strickland & Co.  Glover's                 18   \n",
       "3          4         New Avon LLC      AVON                 44   \n",
       "4          4         New Avon LLC      AVON                 44   \n",
       "\n",
       "                     PrimaryCategory  SubCategoryId  ...   CasNumber  \\\n",
       "0    Makeup Products (non-permanent)             53  ...  13463-67-7   \n",
       "1  Hair Care Products (non-coloring)             25  ...  65996-92-1   \n",
       "2  Hair Care Products (non-coloring)             25  ...    140-67-0   \n",
       "3    Makeup Products (non-permanent)             46  ...  13463-67-7   \n",
       "4    Makeup Products (non-permanent)             52  ...  13463-67-7   \n",
       "\n",
       "   ChemicalId            ChemicalName  InitialDateReported  \\\n",
       "0           6        Titanium dioxide           06/17/2009   \n",
       "1           4  Distillates (coal tar)           07/01/2009   \n",
       "2           5               Estragole           07/01/2009   \n",
       "3           7        Titanium dioxide           07/09/2009   \n",
       "4           8        Titanium dioxide           07/09/2009   \n",
       "\n",
       "  MostRecentDateReported DiscontinuedDate ChemicalCreatedAt ChemicalUpdatedAt  \\\n",
       "0             08/28/2013       02/01/2011        07/09/2009        07/09/2009   \n",
       "1             07/01/2009              NaN        07/01/2009        07/01/2009   \n",
       "2             07/01/2009              NaN        07/02/2009        07/02/2009   \n",
       "3             08/28/2013              NaN        07/09/2009        07/09/2009   \n",
       "4             08/28/2013       02/01/2011        07/09/2009        07/09/2009   \n",
       "\n",
       "  ChemicalDateRemoved ChemicalCount  \n",
       "0                 NaN             1  \n",
       "1                 NaN             2  \n",
       "2                 NaN             2  \n",
       "3                 NaN             1  \n",
       "4                 NaN             1  \n",
       "\n",
       "[5 rows x 22 columns]"
      ]
     },
     "execution_count": 2,
     "metadata": {},
     "output_type": "execute_result"
    }
   ],
   "source": [
    "df = pd.read_csv(\"../data/raw/chemicals_in_cosmetics.csv\")\n",
    "df.head()"
   ]
  },
  {
   "cell_type": "code",
   "execution_count": 4,
   "id": "ee10b017-3340-4a8e-bbf7-edd998fe579d",
   "metadata": {},
   "outputs": [],
   "source": [
    "data = df.copy()"
   ]
  },
  {
   "cell_type": "code",
   "execution_count": 5,
   "id": "183ce56b-ecd2-4cce-aa4d-538f8eb473cb",
   "metadata": {},
   "outputs": [
    {
     "name": "stdout",
     "output_type": "stream",
     "text": [
      "<class 'pandas.core.frame.DataFrame'>\n",
      "RangeIndex: 114635 entries, 0 to 114634\n",
      "Data columns (total 22 columns):\n",
      " #   Column                  Non-Null Count   Dtype  \n",
      "---  ------                  --------------   -----  \n",
      " 0   CDPHId                  114635 non-null  int64  \n",
      " 1   ProductName             114635 non-null  object \n",
      " 2   CSFId                   80662 non-null   float64\n",
      " 3   CSF                     80237 non-null   object \n",
      " 4   CompanyId               114635 non-null  int64  \n",
      " 5   CompanyName             114635 non-null  object \n",
      " 6   BrandName               114408 non-null  object \n",
      " 7   PrimaryCategoryId       114635 non-null  int64  \n",
      " 8   PrimaryCategory         114635 non-null  object \n",
      " 9   SubCategoryId           114635 non-null  int64  \n",
      " 10  SubCategory             114635 non-null  object \n",
      " 11  CasId                   114635 non-null  int64  \n",
      " 12  CasNumber               108159 non-null  object \n",
      " 13  ChemicalId              114635 non-null  int64  \n",
      " 14  ChemicalName            114635 non-null  object \n",
      " 15  InitialDateReported     114635 non-null  object \n",
      " 16  MostRecentDateReported  114635 non-null  object \n",
      " 17  DiscontinuedDate        12920 non-null   object \n",
      " 18  ChemicalCreatedAt       114635 non-null  object \n",
      " 19  ChemicalUpdatedAt       114635 non-null  object \n",
      " 20  ChemicalDateRemoved     2985 non-null    object \n",
      " 21  ChemicalCount           114635 non-null  int64  \n",
      "dtypes: float64(1), int64(7), object(14)\n",
      "memory usage: 19.2+ MB\n"
     ]
    }
   ],
   "source": [
    "data.info()"
   ]
  },
  {
   "cell_type": "code",
   "execution_count": 6,
   "id": "e1ece6f1-dae3-4328-80fd-aec0fea5b9e1",
   "metadata": {},
   "outputs": [
    {
     "data": {
      "text/plain": [
       "CDPHId                      int64\n",
       "ProductName                object\n",
       "CSFId                     float64\n",
       "CSF                        object\n",
       "CompanyId                   int64\n",
       "CompanyName                object\n",
       "BrandName                  object\n",
       "PrimaryCategoryId           int64\n",
       "PrimaryCategory            object\n",
       "SubCategoryId               int64\n",
       "SubCategory                object\n",
       "CasId                       int64\n",
       "CasNumber                  object\n",
       "ChemicalId                  int64\n",
       "ChemicalName               object\n",
       "InitialDateReported        object\n",
       "MostRecentDateReported     object\n",
       "DiscontinuedDate           object\n",
       "ChemicalCreatedAt          object\n",
       "ChemicalUpdatedAt          object\n",
       "ChemicalDateRemoved        object\n",
       "ChemicalCount               int64\n",
       "dtype: object"
      ]
     },
     "execution_count": 6,
     "metadata": {},
     "output_type": "execute_result"
    }
   ],
   "source": [
    "data.dtypes"
   ]
  },
  {
   "cell_type": "markdown",
   "id": "77bb3c07-9fd0-4bab-b542-d1b741fe0f26",
   "metadata": {},
   "source": [
    "Some columns have a different type as their actually values and we need to change them."
   ]
  },
  {
   "cell_type": "code",
   "execution_count": 7,
   "id": "03488283-2ce9-4fe2-8152-04de2a0c3db3",
   "metadata": {},
   "outputs": [],
   "source": [
    "data['InitialDateReported'] = data['InitialDateReported'].astype('datetime64[ns]')\n",
    "data['MostRecentDateReported'] = data['MostRecentDateReported'].astype('datetime64[ns]')\n",
    "#data['DiscontinuedDate'] = data['DiscontinuedDate'].astype('datetime64')\n",
    "data['ChemicalCreatedAt'] = data['ChemicalCreatedAt'].astype('datetime64[ns]')\n",
    "data['ChemicalUpdatedAt'] = data['ChemicalUpdatedAt'].astype('datetime64[ns]')\n",
    "#data['ChemicalDateRemoved'] = data['ChemicalDateRemoved'].astype('datetime64')"
   ]
  },
  {
   "cell_type": "code",
   "execution_count": 8,
   "id": "48943cb3-65e5-4e28-9b02-2ed6dc4b452a",
   "metadata": {},
   "outputs": [],
   "source": [
    "data['CDPHId'] = data['CDPHId'].astype('object')\n",
    "data['PrimaryCategoryId'] = data['PrimaryCategoryId'].astype('object')\n",
    "data['CompanyId'] = data['CompanyId'].astype('object')"
   ]
  },
  {
   "cell_type": "code",
   "execution_count": 9,
   "id": "954dd259-f40f-479e-9dde-8f04bb3a0fc6",
   "metadata": {},
   "outputs": [
    {
     "data": {
      "text/plain": [
       "CDPHId                            object\n",
       "ProductName                       object\n",
       "CSFId                            float64\n",
       "CSF                               object\n",
       "CompanyId                         object\n",
       "CompanyName                       object\n",
       "BrandName                         object\n",
       "PrimaryCategoryId                 object\n",
       "PrimaryCategory                   object\n",
       "SubCategoryId                      int64\n",
       "SubCategory                       object\n",
       "CasId                              int64\n",
       "CasNumber                         object\n",
       "ChemicalId                         int64\n",
       "ChemicalName                      object\n",
       "InitialDateReported       datetime64[ns]\n",
       "MostRecentDateReported    datetime64[ns]\n",
       "DiscontinuedDate                  object\n",
       "ChemicalCreatedAt         datetime64[ns]\n",
       "ChemicalUpdatedAt         datetime64[ns]\n",
       "ChemicalDateRemoved               object\n",
       "ChemicalCount                      int64\n",
       "dtype: object"
      ]
     },
     "execution_count": 9,
     "metadata": {},
     "output_type": "execute_result"
    }
   ],
   "source": [
    "data.dtypes"
   ]
  },
  {
   "cell_type": "code",
   "execution_count": 10,
   "id": "17997b9e-961b-42e7-91d0-6b58cfbbb306",
   "metadata": {},
   "outputs": [
    {
     "data": {
      "text/plain": [
       "CDPHId                         0\n",
       "ProductName                    0\n",
       "CSFId                      33973\n",
       "CSF                        34398\n",
       "CompanyId                      0\n",
       "CompanyName                    0\n",
       "BrandName                    227\n",
       "PrimaryCategoryId              0\n",
       "PrimaryCategory                0\n",
       "SubCategoryId                  0\n",
       "SubCategory                    0\n",
       "CasId                          0\n",
       "CasNumber                   6476\n",
       "ChemicalId                     0\n",
       "ChemicalName                   0\n",
       "InitialDateReported            0\n",
       "MostRecentDateReported         0\n",
       "DiscontinuedDate          101715\n",
       "ChemicalCreatedAt              0\n",
       "ChemicalUpdatedAt              0\n",
       "ChemicalDateRemoved       111650\n",
       "ChemicalCount                  0\n",
       "dtype: int64"
      ]
     },
     "execution_count": 10,
     "metadata": {},
     "output_type": "execute_result"
    }
   ],
   "source": [
    "data.isnull().sum()"
   ]
  },
  {
   "cell_type": "code",
   "execution_count": 11,
   "id": "77e9c914-a569-4c3c-97cd-396bc3f51743",
   "metadata": {},
   "outputs": [
    {
     "data": {
      "text/plain": [
       "CDPHId                    0.000000\n",
       "ProductName               0.000000\n",
       "CSFId                     0.296358\n",
       "CSF                       0.300065\n",
       "CompanyId                 0.000000\n",
       "CompanyName               0.000000\n",
       "BrandName                 0.001980\n",
       "PrimaryCategoryId         0.000000\n",
       "PrimaryCategory           0.000000\n",
       "SubCategoryId             0.000000\n",
       "SubCategory               0.000000\n",
       "CasId                     0.000000\n",
       "CasNumber                 0.056492\n",
       "ChemicalId                0.000000\n",
       "ChemicalName              0.000000\n",
       "InitialDateReported       0.000000\n",
       "MostRecentDateReported    0.000000\n",
       "DiscontinuedDate          0.887294\n",
       "ChemicalCreatedAt         0.000000\n",
       "ChemicalUpdatedAt         0.000000\n",
       "ChemicalDateRemoved       0.973961\n",
       "ChemicalCount             0.000000\n",
       "dtype: float64"
      ]
     },
     "execution_count": 11,
     "metadata": {},
     "output_type": "execute_result"
    }
   ],
   "source": [
    "data.isnull().sum()/len(data)"
   ]
  },
  {
   "cell_type": "markdown",
   "id": "1b76a3af-ca8e-4a18-9f61-826eee013628",
   "metadata": {},
   "source": [
    "Here we can see that 6 columns have missing values. The columns with the highest frequency of missing values are ChemicalDateRemoved with 111650 missing values out of 114635(97%) values in total and DiscontinuedDate with 101715(88%) missing values out of 114635 values in total.\n",
    "I will drop the columns ChemicalDateRemoved and DiscontinuedDate."
   ]
  },
  {
   "cell_type": "code",
   "execution_count": 12,
   "id": "e935b2ab-7507-47f5-b31a-fbe2ee70bcc8",
   "metadata": {},
   "outputs": [],
   "source": [
    "data.drop(['ChemicalDateRemoved', 'DiscontinuedDate'], axis=1, inplace=True)"
   ]
  },
  {
   "cell_type": "code",
   "execution_count": 13,
   "id": "d0e2bf50-3b29-4d13-88d4-fad87e573500",
   "metadata": {},
   "outputs": [
    {
     "data": {
      "text/plain": [
       "(114635, 20)"
      ]
     },
     "execution_count": 13,
     "metadata": {},
     "output_type": "execute_result"
    }
   ],
   "source": [
    "data.shape"
   ]
  },
  {
   "cell_type": "markdown",
   "id": "b37c9137-19d6-4394-872a-241707ddf71b",
   "metadata": {},
   "source": [
    "The column BrandName has a pretty small number of missing values and we will replace those with forward fill:"
   ]
  },
  {
   "cell_type": "code",
   "execution_count": 14,
   "id": "21fb7c71-987e-40c9-949b-be4f25119a42",
   "metadata": {},
   "outputs": [],
   "source": [
    "data['BrandName'].fillna(method='ffill', inplace=True)"
   ]
  },
  {
   "cell_type": "markdown",
   "id": "510c42ae-ad85-47d4-b646-5186ebeb0730",
   "metadata": {},
   "source": [
    "After analyzing the columns of my dataframe I realized that I don't need the other three columns (CSFId, CSF, CasNumber) which contain missing values. For this reason I will drop them too and I will have a dataframe without missing values and columns which are not important for my further analyses. "
   ]
  },
  {
   "cell_type": "code",
   "execution_count": 15,
   "id": "3b524534-d125-43f0-bf8f-bba9e582f836",
   "metadata": {},
   "outputs": [],
   "source": [
    "data.drop(['CSFId', 'CSF', 'CasNumber'], axis=1, inplace=True)"
   ]
  },
  {
   "cell_type": "code",
   "execution_count": 16,
   "id": "0afeba50-586f-4aa1-8f6d-9a4f45983961",
   "metadata": {},
   "outputs": [
    {
     "data": {
      "text/plain": [
       "(114635, 17)"
      ]
     },
     "execution_count": 16,
     "metadata": {},
     "output_type": "execute_result"
    }
   ],
   "source": [
    "data.shape"
   ]
  },
  {
   "cell_type": "code",
   "execution_count": 17,
   "id": "8e9ade5d-2a27-4531-82b6-51a863940291",
   "metadata": {},
   "outputs": [
    {
     "data": {
      "text/plain": [
       "CDPHId                    0\n",
       "ProductName               0\n",
       "CompanyId                 0\n",
       "CompanyName               0\n",
       "BrandName                 0\n",
       "PrimaryCategoryId         0\n",
       "PrimaryCategory           0\n",
       "SubCategoryId             0\n",
       "SubCategory               0\n",
       "CasId                     0\n",
       "ChemicalId                0\n",
       "ChemicalName              0\n",
       "InitialDateReported       0\n",
       "MostRecentDateReported    0\n",
       "ChemicalCreatedAt         0\n",
       "ChemicalUpdatedAt         0\n",
       "ChemicalCount             0\n",
       "dtype: int64"
      ]
     },
     "execution_count": 17,
     "metadata": {},
     "output_type": "execute_result"
    }
   ],
   "source": [
    "data.isnull().sum()"
   ]
  },
  {
   "cell_type": "code",
   "execution_count": 21,
   "id": "7dd5cc47-f540-424b-ac9b-dbb5e4dfd8e6",
   "metadata": {},
   "outputs": [
    {
     "data": {
      "text/plain": [
       "CDPHId                            object\n",
       "ProductName                       object\n",
       "CompanyId                         object\n",
       "CompanyName                       object\n",
       "BrandName                         object\n",
       "PrimaryCategoryId                 object\n",
       "PrimaryCategory                   object\n",
       "SubCategoryId                      int64\n",
       "SubCategory                       object\n",
       "CasId                              int64\n",
       "ChemicalId                         int64\n",
       "ChemicalName                      object\n",
       "InitialDateReported       datetime64[ns]\n",
       "MostRecentDateReported    datetime64[ns]\n",
       "ChemicalCreatedAt         datetime64[ns]\n",
       "ChemicalUpdatedAt         datetime64[ns]\n",
       "ChemicalCount                      int64\n",
       "dtype: object"
      ]
     },
     "execution_count": 21,
     "metadata": {},
     "output_type": "execute_result"
    }
   ],
   "source": [
    "data.dtypes"
   ]
  },
  {
   "cell_type": "code",
   "execution_count": 22,
   "id": "271757f7-073f-4bdc-b0a5-e1be46e40c08",
   "metadata": {},
   "outputs": [
    {
     "data": {
      "text/plain": [
       "CDPHId                    36972\n",
       "ProductName               33716\n",
       "CompanyId                   635\n",
       "CompanyName                 606\n",
       "BrandName                  2713\n",
       "PrimaryCategoryId            13\n",
       "PrimaryCategory              13\n",
       "SubCategoryId                92\n",
       "SubCategory                  89\n",
       "CasId                       134\n",
       "ChemicalId                58079\n",
       "ChemicalName                123\n",
       "InitialDateReported        2274\n",
       "MostRecentDateReported     2178\n",
       "ChemicalCreatedAt          2320\n",
       "ChemicalUpdatedAt          2326\n",
       "ChemicalCount                10\n",
       "dtype: int64"
      ]
     },
     "execution_count": 22,
     "metadata": {},
     "output_type": "execute_result"
    }
   ],
   "source": [
    "data.nunique()"
   ]
  },
  {
   "cell_type": "code",
   "execution_count": null,
   "id": "182c53a5-adee-457c-87cf-eb2bbb623ad5",
   "metadata": {},
   "outputs": [],
   "source": []
  }
 ],
 "metadata": {
  "kernelspec": {
   "display_name": "mid_project_env",
   "language": "python",
   "name": "mid_project_env"
  },
  "language_info": {
   "codemirror_mode": {
    "name": "ipython",
    "version": 3
   },
   "file_extension": ".py",
   "mimetype": "text/x-python",
   "name": "python",
   "nbconvert_exporter": "python",
   "pygments_lexer": "ipython3",
   "version": "3.10.9"
  }
 },
 "nbformat": 4,
 "nbformat_minor": 5
}

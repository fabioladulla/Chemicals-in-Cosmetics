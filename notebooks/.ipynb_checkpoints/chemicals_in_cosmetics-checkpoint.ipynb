{
 "cells": [
  {
   "cell_type": "code",
   "execution_count": 1,
   "id": "0a580e4c-7c1e-455d-bd5b-ef1fe8b4ab14",
   "metadata": {},
   "outputs": [],
   "source": [
    "import pandas as pd\n",
    "import numpy as np\n",
    "import yaml\n",
    "import matplotlib.pyplot as plt"
   ]
  },
  {
   "cell_type": "code",
   "execution_count": 2,
   "id": "d9e627c7-4e13-405b-9a3a-7f1fda80e693",
   "metadata": {},
   "outputs": [],
   "source": [
    "try:\n",
    "    with open(\"../config.yaml\", \"r\") as file:\n",
    "        config = yaml.safe_load(file)\n",
    "except:\n",
    "    print(\"Config file not found!\")"
   ]
  },
  {
   "cell_type": "code",
   "execution_count": 3,
   "id": "4865ff46-14fc-4b0e-a0d1-0078c197111a",
   "metadata": {},
   "outputs": [
    {
     "data": {
      "text/html": [
       "<div>\n",
       "<style scoped>\n",
       "    .dataframe tbody tr th:only-of-type {\n",
       "        vertical-align: middle;\n",
       "    }\n",
       "\n",
       "    .dataframe tbody tr th {\n",
       "        vertical-align: top;\n",
       "    }\n",
       "\n",
       "    .dataframe thead th {\n",
       "        text-align: right;\n",
       "    }\n",
       "</style>\n",
       "<table border=\"1\" class=\"dataframe\">\n",
       "  <thead>\n",
       "    <tr style=\"text-align: right;\">\n",
       "      <th></th>\n",
       "      <th>CDPHId</th>\n",
       "      <th>ProductName</th>\n",
       "      <th>CSFId</th>\n",
       "      <th>CSF</th>\n",
       "      <th>CompanyId</th>\n",
       "      <th>CompanyName</th>\n",
       "      <th>BrandName</th>\n",
       "      <th>PrimaryCategoryId</th>\n",
       "      <th>PrimaryCategory</th>\n",
       "      <th>SubCategoryId</th>\n",
       "      <th>...</th>\n",
       "      <th>CasNumber</th>\n",
       "      <th>ChemicalId</th>\n",
       "      <th>ChemicalName</th>\n",
       "      <th>InitialDateReported</th>\n",
       "      <th>MostRecentDateReported</th>\n",
       "      <th>DiscontinuedDate</th>\n",
       "      <th>ChemicalCreatedAt</th>\n",
       "      <th>ChemicalUpdatedAt</th>\n",
       "      <th>ChemicalDateRemoved</th>\n",
       "      <th>ChemicalCount</th>\n",
       "    </tr>\n",
       "  </thead>\n",
       "  <tbody>\n",
       "    <tr>\n",
       "      <th>0</th>\n",
       "      <td>2</td>\n",
       "      <td>ULTRA COLOR RICH EXTRA PLUMP LIPSTICK-ALL SHADES</td>\n",
       "      <td>NaN</td>\n",
       "      <td>NaN</td>\n",
       "      <td>4</td>\n",
       "      <td>New Avon LLC</td>\n",
       "      <td>AVON</td>\n",
       "      <td>44</td>\n",
       "      <td>Makeup Products (non-permanent)</td>\n",
       "      <td>53</td>\n",
       "      <td>...</td>\n",
       "      <td>13463-67-7</td>\n",
       "      <td>6</td>\n",
       "      <td>Titanium dioxide</td>\n",
       "      <td>06/17/2009</td>\n",
       "      <td>08/28/2013</td>\n",
       "      <td>02/01/2011</td>\n",
       "      <td>07/09/2009</td>\n",
       "      <td>07/09/2009</td>\n",
       "      <td>NaN</td>\n",
       "      <td>1</td>\n",
       "    </tr>\n",
       "    <tr>\n",
       "      <th>1</th>\n",
       "      <td>3</td>\n",
       "      <td>Glover's Medicated Shampoo</td>\n",
       "      <td>NaN</td>\n",
       "      <td>NaN</td>\n",
       "      <td>338</td>\n",
       "      <td>J. Strickland &amp; Co.</td>\n",
       "      <td>Glover's</td>\n",
       "      <td>18</td>\n",
       "      <td>Hair Care Products (non-coloring)</td>\n",
       "      <td>25</td>\n",
       "      <td>...</td>\n",
       "      <td>65996-92-1</td>\n",
       "      <td>4</td>\n",
       "      <td>Distillates (coal tar)</td>\n",
       "      <td>07/01/2009</td>\n",
       "      <td>07/01/2009</td>\n",
       "      <td>NaN</td>\n",
       "      <td>07/01/2009</td>\n",
       "      <td>07/01/2009</td>\n",
       "      <td>NaN</td>\n",
       "      <td>2</td>\n",
       "    </tr>\n",
       "    <tr>\n",
       "      <th>2</th>\n",
       "      <td>3</td>\n",
       "      <td>Glover's Medicated Shampoo</td>\n",
       "      <td>NaN</td>\n",
       "      <td>NaN</td>\n",
       "      <td>338</td>\n",
       "      <td>J. Strickland &amp; Co.</td>\n",
       "      <td>Glover's</td>\n",
       "      <td>18</td>\n",
       "      <td>Hair Care Products (non-coloring)</td>\n",
       "      <td>25</td>\n",
       "      <td>...</td>\n",
       "      <td>140-67-0</td>\n",
       "      <td>5</td>\n",
       "      <td>Estragole</td>\n",
       "      <td>07/01/2009</td>\n",
       "      <td>07/01/2009</td>\n",
       "      <td>NaN</td>\n",
       "      <td>07/02/2009</td>\n",
       "      <td>07/02/2009</td>\n",
       "      <td>NaN</td>\n",
       "      <td>2</td>\n",
       "    </tr>\n",
       "    <tr>\n",
       "      <th>3</th>\n",
       "      <td>4</td>\n",
       "      <td>PRECISION GLIMMER EYE LINER-ALL SHADES �</td>\n",
       "      <td>NaN</td>\n",
       "      <td>NaN</td>\n",
       "      <td>4</td>\n",
       "      <td>New Avon LLC</td>\n",
       "      <td>AVON</td>\n",
       "      <td>44</td>\n",
       "      <td>Makeup Products (non-permanent)</td>\n",
       "      <td>46</td>\n",
       "      <td>...</td>\n",
       "      <td>13463-67-7</td>\n",
       "      <td>7</td>\n",
       "      <td>Titanium dioxide</td>\n",
       "      <td>07/09/2009</td>\n",
       "      <td>08/28/2013</td>\n",
       "      <td>NaN</td>\n",
       "      <td>07/09/2009</td>\n",
       "      <td>07/09/2009</td>\n",
       "      <td>NaN</td>\n",
       "      <td>1</td>\n",
       "    </tr>\n",
       "    <tr>\n",
       "      <th>4</th>\n",
       "      <td>5</td>\n",
       "      <td>AVON BRILLIANT SHINE LIP GLOSS-ALL SHADES �</td>\n",
       "      <td>NaN</td>\n",
       "      <td>NaN</td>\n",
       "      <td>4</td>\n",
       "      <td>New Avon LLC</td>\n",
       "      <td>AVON</td>\n",
       "      <td>44</td>\n",
       "      <td>Makeup Products (non-permanent)</td>\n",
       "      <td>52</td>\n",
       "      <td>...</td>\n",
       "      <td>13463-67-7</td>\n",
       "      <td>8</td>\n",
       "      <td>Titanium dioxide</td>\n",
       "      <td>07/09/2009</td>\n",
       "      <td>08/28/2013</td>\n",
       "      <td>02/01/2011</td>\n",
       "      <td>07/09/2009</td>\n",
       "      <td>07/09/2009</td>\n",
       "      <td>NaN</td>\n",
       "      <td>1</td>\n",
       "    </tr>\n",
       "  </tbody>\n",
       "</table>\n",
       "<p>5 rows × 22 columns</p>\n",
       "</div>"
      ],
      "text/plain": [
       "   CDPHId                                       ProductName  CSFId  CSF  \\\n",
       "0       2  ULTRA COLOR RICH EXTRA PLUMP LIPSTICK-ALL SHADES    NaN  NaN   \n",
       "1       3                        Glover's Medicated Shampoo    NaN  NaN   \n",
       "2       3                        Glover's Medicated Shampoo    NaN  NaN   \n",
       "3       4          PRECISION GLIMMER EYE LINER-ALL SHADES �    NaN  NaN   \n",
       "4       5       AVON BRILLIANT SHINE LIP GLOSS-ALL SHADES �    NaN  NaN   \n",
       "\n",
       "   CompanyId          CompanyName BrandName  PrimaryCategoryId  \\\n",
       "0          4         New Avon LLC      AVON                 44   \n",
       "1        338  J. Strickland & Co.  Glover's                 18   \n",
       "2        338  J. Strickland & Co.  Glover's                 18   \n",
       "3          4         New Avon LLC      AVON                 44   \n",
       "4          4         New Avon LLC      AVON                 44   \n",
       "\n",
       "                     PrimaryCategory  SubCategoryId  ...   CasNumber  \\\n",
       "0    Makeup Products (non-permanent)             53  ...  13463-67-7   \n",
       "1  Hair Care Products (non-coloring)             25  ...  65996-92-1   \n",
       "2  Hair Care Products (non-coloring)             25  ...    140-67-0   \n",
       "3    Makeup Products (non-permanent)             46  ...  13463-67-7   \n",
       "4    Makeup Products (non-permanent)             52  ...  13463-67-7   \n",
       "\n",
       "   ChemicalId            ChemicalName  InitialDateReported  \\\n",
       "0           6        Titanium dioxide           06/17/2009   \n",
       "1           4  Distillates (coal tar)           07/01/2009   \n",
       "2           5               Estragole           07/01/2009   \n",
       "3           7        Titanium dioxide           07/09/2009   \n",
       "4           8        Titanium dioxide           07/09/2009   \n",
       "\n",
       "  MostRecentDateReported DiscontinuedDate ChemicalCreatedAt ChemicalUpdatedAt  \\\n",
       "0             08/28/2013       02/01/2011        07/09/2009        07/09/2009   \n",
       "1             07/01/2009              NaN        07/01/2009        07/01/2009   \n",
       "2             07/01/2009              NaN        07/02/2009        07/02/2009   \n",
       "3             08/28/2013              NaN        07/09/2009        07/09/2009   \n",
       "4             08/28/2013       02/01/2011        07/09/2009        07/09/2009   \n",
       "\n",
       "  ChemicalDateRemoved ChemicalCount  \n",
       "0                 NaN             1  \n",
       "1                 NaN             2  \n",
       "2                 NaN             2  \n",
       "3                 NaN             1  \n",
       "4                 NaN             1  \n",
       "\n",
       "[5 rows x 22 columns]"
      ]
     },
     "execution_count": 3,
     "metadata": {},
     "output_type": "execute_result"
    }
   ],
   "source": [
    "df = pd.read_csv(config[\"data\"][\"raw\"])\n",
    "df.head()"
   ]
  },
  {
   "cell_type": "code",
   "execution_count": 4,
   "id": "ee10b017-3340-4a8e-bbf7-edd998fe579d",
   "metadata": {},
   "outputs": [],
   "source": [
    "data = df.copy()"
   ]
  },
  {
   "cell_type": "code",
   "execution_count": 5,
   "id": "183ce56b-ecd2-4cce-aa4d-538f8eb473cb",
   "metadata": {},
   "outputs": [
    {
     "name": "stdout",
     "output_type": "stream",
     "text": [
      "<class 'pandas.core.frame.DataFrame'>\n",
      "RangeIndex: 114635 entries, 0 to 114634\n",
      "Data columns (total 22 columns):\n",
      " #   Column                  Non-Null Count   Dtype  \n",
      "---  ------                  --------------   -----  \n",
      " 0   CDPHId                  114635 non-null  int64  \n",
      " 1   ProductName             114635 non-null  object \n",
      " 2   CSFId                   80662 non-null   float64\n",
      " 3   CSF                     80237 non-null   object \n",
      " 4   CompanyId               114635 non-null  int64  \n",
      " 5   CompanyName             114635 non-null  object \n",
      " 6   BrandName               114408 non-null  object \n",
      " 7   PrimaryCategoryId       114635 non-null  int64  \n",
      " 8   PrimaryCategory         114635 non-null  object \n",
      " 9   SubCategoryId           114635 non-null  int64  \n",
      " 10  SubCategory             114635 non-null  object \n",
      " 11  CasId                   114635 non-null  int64  \n",
      " 12  CasNumber               108159 non-null  object \n",
      " 13  ChemicalId              114635 non-null  int64  \n",
      " 14  ChemicalName            114635 non-null  object \n",
      " 15  InitialDateReported     114635 non-null  object \n",
      " 16  MostRecentDateReported  114635 non-null  object \n",
      " 17  DiscontinuedDate        12920 non-null   object \n",
      " 18  ChemicalCreatedAt       114635 non-null  object \n",
      " 19  ChemicalUpdatedAt       114635 non-null  object \n",
      " 20  ChemicalDateRemoved     2985 non-null    object \n",
      " 21  ChemicalCount           114635 non-null  int64  \n",
      "dtypes: float64(1), int64(7), object(14)\n",
      "memory usage: 19.2+ MB\n"
     ]
    }
   ],
   "source": [
    "data.info()"
   ]
  },
  {
   "cell_type": "code",
   "execution_count": 6,
   "id": "e1ece6f1-dae3-4328-80fd-aec0fea5b9e1",
   "metadata": {},
   "outputs": [
    {
     "data": {
      "text/plain": [
       "CDPHId                      int64\n",
       "ProductName                object\n",
       "CSFId                     float64\n",
       "CSF                        object\n",
       "CompanyId                   int64\n",
       "CompanyName                object\n",
       "BrandName                  object\n",
       "PrimaryCategoryId           int64\n",
       "PrimaryCategory            object\n",
       "SubCategoryId               int64\n",
       "SubCategory                object\n",
       "CasId                       int64\n",
       "CasNumber                  object\n",
       "ChemicalId                  int64\n",
       "ChemicalName               object\n",
       "InitialDateReported        object\n",
       "MostRecentDateReported     object\n",
       "DiscontinuedDate           object\n",
       "ChemicalCreatedAt          object\n",
       "ChemicalUpdatedAt          object\n",
       "ChemicalDateRemoved        object\n",
       "ChemicalCount               int64\n",
       "dtype: object"
      ]
     },
     "execution_count": 6,
     "metadata": {},
     "output_type": "execute_result"
    }
   ],
   "source": [
    "data.dtypes"
   ]
  },
  {
   "cell_type": "markdown",
   "id": "77bb3c07-9fd0-4bab-b542-d1b741fe0f26",
   "metadata": {},
   "source": [
    "Some columns have a different type as their actually values and we need to change them."
   ]
  },
  {
   "cell_type": "code",
   "execution_count": 7,
   "id": "91b90d55-4ce9-406c-8f35-81fd329175ad",
   "metadata": {},
   "outputs": [],
   "source": [
    "def change_dtype(df, col_list, dtype):\n",
    "    \"\"\"\n",
    "    Change the data type of the given columns.\n",
    "\n",
    "    Parameters:\n",
    "    df (pd.DataFrame): The DataFrame whose columns' data types are to be changed.\n",
    "    col_list (list of str): The names of the columns to change.\n",
    "    dtype (str or type): The new data type.\n",
    "    \n",
    "    Returns:\n",
    "    pd.DataFrame: The DataFrame with changed data types.\n",
    "    \"\"\"\n",
    "    for col in col_list:\n",
    "        df[col] = df[col].astype(dtype)\n",
    "    return df\n"
   ]
  },
  {
   "cell_type": "code",
   "execution_count": 8,
   "id": "e90c6772-1cd7-443b-901b-310f5016c80b",
   "metadata": {},
   "outputs": [],
   "source": [
    "data = change_dtype(data, ['InitialDateReported', 'MostRecentDateReported', 'ChemicalCreatedAt', 'ChemicalUpdatedAt'], 'datetime64[ns]')"
   ]
  },
  {
   "cell_type": "code",
   "execution_count": 9,
   "id": "33e8f71c-cd1b-4c4a-83bf-e96641e35090",
   "metadata": {},
   "outputs": [],
   "source": [
    "data = change_dtype(data, ['CDPHId', 'PrimaryCategoryId','CompanyId'], 'object')"
   ]
  },
  {
   "cell_type": "code",
   "execution_count": 10,
   "id": "954dd259-f40f-479e-9dde-8f04bb3a0fc6",
   "metadata": {},
   "outputs": [
    {
     "data": {
      "text/plain": [
       "CDPHId                            object\n",
       "ProductName                       object\n",
       "CSFId                            float64\n",
       "CSF                               object\n",
       "CompanyId                         object\n",
       "CompanyName                       object\n",
       "BrandName                         object\n",
       "PrimaryCategoryId                 object\n",
       "PrimaryCategory                   object\n",
       "SubCategoryId                      int64\n",
       "SubCategory                       object\n",
       "CasId                              int64\n",
       "CasNumber                         object\n",
       "ChemicalId                         int64\n",
       "ChemicalName                      object\n",
       "InitialDateReported       datetime64[ns]\n",
       "MostRecentDateReported    datetime64[ns]\n",
       "DiscontinuedDate                  object\n",
       "ChemicalCreatedAt         datetime64[ns]\n",
       "ChemicalUpdatedAt         datetime64[ns]\n",
       "ChemicalDateRemoved               object\n",
       "ChemicalCount                      int64\n",
       "dtype: object"
      ]
     },
     "execution_count": 10,
     "metadata": {},
     "output_type": "execute_result"
    }
   ],
   "source": [
    "data.dtypes"
   ]
  },
  {
   "cell_type": "code",
   "execution_count": 11,
   "id": "17997b9e-961b-42e7-91d0-6b58cfbbb306",
   "metadata": {},
   "outputs": [
    {
     "data": {
      "text/plain": [
       "CDPHId                         0\n",
       "ProductName                    0\n",
       "CSFId                      33973\n",
       "CSF                        34398\n",
       "CompanyId                      0\n",
       "CompanyName                    0\n",
       "BrandName                    227\n",
       "PrimaryCategoryId              0\n",
       "PrimaryCategory                0\n",
       "SubCategoryId                  0\n",
       "SubCategory                    0\n",
       "CasId                          0\n",
       "CasNumber                   6476\n",
       "ChemicalId                     0\n",
       "ChemicalName                   0\n",
       "InitialDateReported            0\n",
       "MostRecentDateReported         0\n",
       "DiscontinuedDate          101715\n",
       "ChemicalCreatedAt              0\n",
       "ChemicalUpdatedAt              0\n",
       "ChemicalDateRemoved       111650\n",
       "ChemicalCount                  0\n",
       "dtype: int64"
      ]
     },
     "execution_count": 11,
     "metadata": {},
     "output_type": "execute_result"
    }
   ],
   "source": [
    "data.isnull().sum()"
   ]
  },
  {
   "cell_type": "code",
   "execution_count": 12,
   "id": "77e9c914-a569-4c3c-97cd-396bc3f51743",
   "metadata": {},
   "outputs": [
    {
     "data": {
      "text/plain": [
       "CDPHId                    0.000000\n",
       "ProductName               0.000000\n",
       "CSFId                     0.296358\n",
       "CSF                       0.300065\n",
       "CompanyId                 0.000000\n",
       "CompanyName               0.000000\n",
       "BrandName                 0.001980\n",
       "PrimaryCategoryId         0.000000\n",
       "PrimaryCategory           0.000000\n",
       "SubCategoryId             0.000000\n",
       "SubCategory               0.000000\n",
       "CasId                     0.000000\n",
       "CasNumber                 0.056492\n",
       "ChemicalId                0.000000\n",
       "ChemicalName              0.000000\n",
       "InitialDateReported       0.000000\n",
       "MostRecentDateReported    0.000000\n",
       "DiscontinuedDate          0.887294\n",
       "ChemicalCreatedAt         0.000000\n",
       "ChemicalUpdatedAt         0.000000\n",
       "ChemicalDateRemoved       0.973961\n",
       "ChemicalCount             0.000000\n",
       "dtype: float64"
      ]
     },
     "execution_count": 12,
     "metadata": {},
     "output_type": "execute_result"
    }
   ],
   "source": [
    "data.isnull().sum()/len(data)"
   ]
  },
  {
   "cell_type": "markdown",
   "id": "1b76a3af-ca8e-4a18-9f61-826eee013628",
   "metadata": {},
   "source": [
    "Here we can see that 6 columns have missing values. The columns with the highest frequency of missing values are ChemicalDateRemoved with 111650 missing values out of 114635(97%) values in total and DiscontinuedDate with 101715(88%) missing values out of 114635 values in total.\n",
    "I will drop the columns ChemicalDateRemoved and DiscontinuedDate."
   ]
  },
  {
   "cell_type": "code",
   "execution_count": 13,
   "id": "e935b2ab-7507-47f5-b31a-fbe2ee70bcc8",
   "metadata": {},
   "outputs": [],
   "source": [
    "data.drop(['ChemicalDateRemoved', 'DiscontinuedDate'], axis=1, inplace=True)"
   ]
  },
  {
   "cell_type": "code",
   "execution_count": 14,
   "id": "d0e2bf50-3b29-4d13-88d4-fad87e573500",
   "metadata": {},
   "outputs": [
    {
     "data": {
      "text/plain": [
       "(114635, 20)"
      ]
     },
     "execution_count": 14,
     "metadata": {},
     "output_type": "execute_result"
    }
   ],
   "source": [
    "data.shape"
   ]
  },
  {
   "cell_type": "markdown",
   "id": "b37c9137-19d6-4394-872a-241707ddf71b",
   "metadata": {},
   "source": [
    "The column BrandName has a pretty small number of missing values and we will replace those with forward fill:"
   ]
  },
  {
   "cell_type": "code",
   "execution_count": 15,
   "id": "21fb7c71-987e-40c9-949b-be4f25119a42",
   "metadata": {},
   "outputs": [],
   "source": [
    "data['BrandName'].fillna(method='ffill', inplace=True)"
   ]
  },
  {
   "cell_type": "markdown",
   "id": "510c42ae-ad85-47d4-b646-5186ebeb0730",
   "metadata": {},
   "source": [
    "After analyzing the columns of my dataframe I realized that I don't need the other three columns (CSFId, CSF, CasNumber) which contain missing values. For this reason I will drop them too and I will have a dataframe without missing values and columns which are not important for my further analyses. "
   ]
  },
  {
   "cell_type": "code",
   "execution_count": 16,
   "id": "3b524534-d125-43f0-bf8f-bba9e582f836",
   "metadata": {},
   "outputs": [],
   "source": [
    "data.drop(['CSFId', 'CSF', 'CasNumber'], axis=1, inplace=True)"
   ]
  },
  {
   "cell_type": "code",
   "execution_count": 17,
   "id": "0afeba50-586f-4aa1-8f6d-9a4f45983961",
   "metadata": {},
   "outputs": [
    {
     "data": {
      "text/plain": [
       "(114635, 17)"
      ]
     },
     "execution_count": 17,
     "metadata": {},
     "output_type": "execute_result"
    }
   ],
   "source": [
    "data.shape"
   ]
  },
  {
   "cell_type": "code",
   "execution_count": 18,
   "id": "8e9ade5d-2a27-4531-82b6-51a863940291",
   "metadata": {},
   "outputs": [
    {
     "data": {
      "text/plain": [
       "CDPHId                    0\n",
       "ProductName               0\n",
       "CompanyId                 0\n",
       "CompanyName               0\n",
       "BrandName                 0\n",
       "PrimaryCategoryId         0\n",
       "PrimaryCategory           0\n",
       "SubCategoryId             0\n",
       "SubCategory               0\n",
       "CasId                     0\n",
       "ChemicalId                0\n",
       "ChemicalName              0\n",
       "InitialDateReported       0\n",
       "MostRecentDateReported    0\n",
       "ChemicalCreatedAt         0\n",
       "ChemicalUpdatedAt         0\n",
       "ChemicalCount             0\n",
       "dtype: int64"
      ]
     },
     "execution_count": 18,
     "metadata": {},
     "output_type": "execute_result"
    }
   ],
   "source": [
    "data.isnull().sum()"
   ]
  },
  {
   "cell_type": "code",
   "execution_count": 19,
   "id": "7dd5cc47-f540-424b-ac9b-dbb5e4dfd8e6",
   "metadata": {},
   "outputs": [
    {
     "data": {
      "text/plain": [
       "CDPHId                            object\n",
       "ProductName                       object\n",
       "CompanyId                         object\n",
       "CompanyName                       object\n",
       "BrandName                         object\n",
       "PrimaryCategoryId                 object\n",
       "PrimaryCategory                   object\n",
       "SubCategoryId                      int64\n",
       "SubCategory                       object\n",
       "CasId                              int64\n",
       "ChemicalId                         int64\n",
       "ChemicalName                      object\n",
       "InitialDateReported       datetime64[ns]\n",
       "MostRecentDateReported    datetime64[ns]\n",
       "ChemicalCreatedAt         datetime64[ns]\n",
       "ChemicalUpdatedAt         datetime64[ns]\n",
       "ChemicalCount                      int64\n",
       "dtype: object"
      ]
     },
     "execution_count": 19,
     "metadata": {},
     "output_type": "execute_result"
    }
   ],
   "source": [
    "data.dtypes"
   ]
  },
  {
   "cell_type": "code",
   "execution_count": 20,
   "id": "271757f7-073f-4bdc-b0a5-e1be46e40c08",
   "metadata": {},
   "outputs": [
    {
     "data": {
      "text/plain": [
       "CDPHId                    36972\n",
       "ProductName               33716\n",
       "CompanyId                   635\n",
       "CompanyName                 606\n",
       "BrandName                  2713\n",
       "PrimaryCategoryId            13\n",
       "PrimaryCategory              13\n",
       "SubCategoryId                92\n",
       "SubCategory                  89\n",
       "CasId                       134\n",
       "ChemicalId                58079\n",
       "ChemicalName                123\n",
       "InitialDateReported        2274\n",
       "MostRecentDateReported     2178\n",
       "ChemicalCreatedAt          2320\n",
       "ChemicalUpdatedAt          2326\n",
       "ChemicalCount                10\n",
       "dtype: int64"
      ]
     },
     "execution_count": 20,
     "metadata": {},
     "output_type": "execute_result"
    }
   ],
   "source": [
    "data.nunique()"
   ]
  },
  {
   "cell_type": "markdown",
   "id": "56f10285-7e58-4979-b814-33b2bf8c8e24",
   "metadata": {},
   "source": [
    "The columns PrimaryCategoryId and PrimaryCategory have the same number of unique values which means that I can drop one of them."
   ]
  },
  {
   "cell_type": "code",
   "execution_count": 21,
   "id": "5ad85249-7665-4a2c-b849-47e74847b1c3",
   "metadata": {},
   "outputs": [
    {
     "data": {
      "text/plain": [
       "array([44, 18, 59, 74, 106, 6, 90, 12, 111, 32, 68, 82, 1], dtype=object)"
      ]
     },
     "execution_count": 21,
     "metadata": {},
     "output_type": "execute_result"
    }
   ],
   "source": [
    "data['PrimaryCategoryId'].unique()"
   ]
  },
  {
   "cell_type": "code",
   "execution_count": 22,
   "id": "2e9e5eef-f8ed-464d-a556-74afa63d2eec",
   "metadata": {},
   "outputs": [
    {
     "data": {
      "text/plain": [
       "array(['Makeup Products (non-permanent)',\n",
       "       'Hair Care Products (non-coloring)', 'Nail Products',\n",
       "       'Personal Care Products', 'Sun-Related Products', 'Bath Products',\n",
       "       'Skin Care Products ', 'Fragrances',\n",
       "       'Tattoos and Permanent Makeup', 'Hair Coloring Products',\n",
       "       'Oral Hygiene Products', 'Shaving Products', 'Baby Products'],\n",
       "      dtype=object)"
      ]
     },
     "execution_count": 22,
     "metadata": {},
     "output_type": "execute_result"
    }
   ],
   "source": [
    "data['PrimaryCategory'].unique()"
   ]
  },
  {
   "cell_type": "code",
   "execution_count": 23,
   "id": "561dc549-e427-4396-a6cf-70b6c6f4d2c8",
   "metadata": {},
   "outputs": [],
   "source": [
    "data.drop(['PrimaryCategoryId'], axis=1, inplace=True)"
   ]
  },
  {
   "cell_type": "code",
   "execution_count": null,
   "id": "87447b0f-6f57-40d4-9466-6549fd453b0c",
   "metadata": {},
   "outputs": [],
   "source": []
  },
  {
   "cell_type": "code",
   "execution_count": 24,
   "id": "8ac6a929-c5d8-4f82-b02f-fb3c57ddafde",
   "metadata": {},
   "outputs": [],
   "source": [
    "#data['SubCategoryId'].unique()"
   ]
  },
  {
   "cell_type": "code",
   "execution_count": 25,
   "id": "b1333388-a63e-4bea-947a-b2825cb69039",
   "metadata": {},
   "outputs": [],
   "source": [
    "#data['SubCategory'].unique()"
   ]
  },
  {
   "cell_type": "code",
   "execution_count": 26,
   "id": "847d4b84-d57c-4419-ba21-34c7d8745d20",
   "metadata": {},
   "outputs": [],
   "source": [
    "def check_id_counts(data, subcategory_col, id_col):\n",
    "    \"\"\"\n",
    "    Print the number of unique IDs for each unique subcategory.\n",
    "\n",
    "    Parameters:\n",
    "    df (pd.DataFrame): The DataFrame to operate on.\n",
    "    subcategory_col (str): The name of the column containing the subcategories.\n",
    "    id_col (str): The name of the column containing the IDs.\n",
    "    \"\"\"\n",
    "    id_counts = {subcat: len(df.loc[df[subcategory_col] == subcat, id_col].unique())\n",
    "                 for subcat in df[subcategory_col].unique()}\n",
    "    for subcat, count in id_counts.items():\n",
    "        print(f'{subcat}: {count}')"
   ]
  },
  {
   "cell_type": "code",
   "execution_count": 27,
   "id": "8134ccc8-aefe-4387-8153-2b3b512f0992",
   "metadata": {},
   "outputs": [
    {
     "name": "stdout",
     "output_type": "stream",
     "text": [
      "Lip Color - Lipsticks, Liners, and Pencils: 1\n",
      "Hair Shampoos (making a cosmetic claim) : 2\n",
      "Eyeliner/Eyebrow Pencils: 1\n",
      "Lip Gloss/Shine: 1\n",
      "Eye Shadow: 1\n",
      "Artificial Nails and Related Products: 1\n",
      "Mascara/Eyelash Products: 1\n",
      "Hand Cleansers and Sanitizers: 1\n",
      "Sunscreen (making a cosmetic claim) : 1\n",
      "UV Gel Nail Polish: 1\n",
      "Basecoats and Undercoats: 1\n",
      "Scrubs and Exfoliants: 1\n",
      "Foundations and Bases: 1\n",
      "Nail Polish and Enamel: 1\n",
      "Anti-Wrinkle/Anti-Aging Products (making a cosmetic claim): 1\n",
      "Skin Moisturizers (making a cosmetic claim): 1\n",
      "Acne Products (making a cosmetic claim): 1\n",
      "Facial Masks: 1\n",
      "Lip Balm (making a cosmetic claim): 1\n",
      "Skin Astringent (making a cosmetic claim): 1\n",
      "Skin Bleaching (making a cosmetic claim) : 1\n",
      "Perfumes - Solids and Powders: 1\n",
      "Blushes : 1\n",
      "Bubble and Foam Bath Products: 1\n",
      "Skin Cleansers: 1\n",
      "Body Washes and Soaps: 1\n",
      "Rouges: 1\n",
      "Face Powders: 1\n",
      "Skin Toner (making a cosmetic claim): 1\n",
      "Tattoos and Permanent Makeup: 1\n",
      "Powders (excluding aftershave, baby powder, and makeup face powder): 1\n",
      "Hair Styling Products: 1\n",
      "Other Nail Products : 1\n",
      "Nighttime Skin Care: 1\n",
      "Indoor Tanning Products: 1\n",
      "Other Makeup Product: 1\n",
      "Hair Dyes and Colors: 1\n",
      "Teeth Cleaning Products: 1\n",
      "Nail Polish and Enamel Removers: 1\n",
      "Makeup Fixatives: 1\n",
      "Perfumes - Oils and Lotions: 1\n",
      "Hair Conditioners (rinse-out): 2\n",
      "Other Skin Care Product: 1\n",
      "Shaving Cream and other Beard Softeners: 1\n",
      "Cuticle Softeners: 1\n",
      "Nail Creams and Lotions: 1\n",
      "Skin Fresheners: 1\n",
      "Cologne: 1\n",
      "Douches: 1\n",
      "Bath Additives: 1\n",
      "Hair Tints and Rinses (coloring): 1\n",
      "Mouthwashes and Breath Fresheners: 1\n",
      "Baby Shampoos: 1\n",
      "Facial Cream: 1\n",
      "Hair Bleaches: 1\n",
      "Hair Conditioners (leave-in): 2\n",
      "Hair Straighteners: 1\n",
      "Other Personal Care Product : 1\n",
      "Permanent Waves and Wave Sets: 1\n",
      "Other Hair Care Product: 1\n",
      "Foot Powders and Sprays: 1\n",
      "Depilatories: 1\n",
      "Paints (e.g. facial, body): 1\n",
      "Hair Lighteners with Color: 1\n",
      "Aftershave Products: 1\n",
      "Feminine Deodorants: 1\n",
      "Sprays (excluding fragrances): 1\n",
      "Baby Wash/Soap: 1\n",
      "Suntan Enhancers: 1\n",
      "Underarm Deodorants: 1\n",
      "Perfumes/Eaux de Parfum: 1\n",
      "Baby Skin Care: 1\n",
      "Toilet Water/Eaux de Toilette: 1\n",
      "Other Bath Products: 1\n",
      "Hair Shampoos with Anti-Dandruff properties: 1\n",
      "Other Fragrances: 1\n",
      "Diaper Rash Treatment: 1\n",
      "Teeth Whitening Products: 1\n",
      "Other Baby Products: 1\n",
      "Hair Color Sprays (aerosol): 1\n",
      "Makeup Preparations: 1\n",
      "Antiperspirants (making a cosmetic claim): 1\n",
      "Other Shaving Product: 1\n",
      "Nail Decoration: 1\n",
      "Products Related to Hair Coloring: 1\n",
      "Lubricants  (e.g. personal, sexual, massage oil): 1\n",
      "Other Oral Hygiene Product: 1\n",
      "Other Hair Coloring Product: 1\n",
      "Other Sun-Related Product: 1\n"
     ]
    }
   ],
   "source": [
    "check_id_counts(data, 'SubCategory', 'SubCategoryId')"
   ]
  },
  {
   "cell_type": "markdown",
   "id": "e705bd44-7d5b-4e87-81a7-b1813b1136a5",
   "metadata": {},
   "source": [
    "Here we have 3 subcategories who have each two Ids. I will drop the SubCategoryId column and keep the SubCategory column to later use it for my questions."
   ]
  },
  {
   "cell_type": "code",
   "execution_count": 28,
   "id": "72c591fc-563c-436d-8317-87eb805fdf2d",
   "metadata": {},
   "outputs": [],
   "source": [
    "data.drop(['SubCategoryId'], axis=1, inplace=True)"
   ]
  },
  {
   "cell_type": "markdown",
   "id": "7dabfbec-d8d0-4253-ba7d-1bbd5aca5c50",
   "metadata": {},
   "source": [
    "The same issue appears for the columns CompanyId and CompanyName where the number of IDs is larger than the number of company names. I will drop here too the Id column."
   ]
  },
  {
   "cell_type": "code",
   "execution_count": 29,
   "id": "2ed2bd7b-d21c-4549-b11d-41937d4b04f5",
   "metadata": {},
   "outputs": [],
   "source": [
    "data.drop(['CompanyId'], axis=1, inplace=True)"
   ]
  },
  {
   "cell_type": "code",
   "execution_count": 31,
   "id": "1a5a5bdd-2d48-4f60-a34d-46d708a78e3e",
   "metadata": {},
   "outputs": [
    {
     "data": {
      "text/plain": [
       "(114635, 14)"
      ]
     },
     "execution_count": 31,
     "metadata": {},
     "output_type": "execute_result"
    }
   ],
   "source": [
    "data.shape"
   ]
  },
  {
   "cell_type": "code",
   "execution_count": 30,
   "id": "dace0841-160f-48fc-8836-c50ee5ffdf44",
   "metadata": {},
   "outputs": [
    {
     "data": {
      "text/plain": [
       "CDPHId                    36972\n",
       "ProductName               33716\n",
       "CompanyName                 606\n",
       "BrandName                  2713\n",
       "PrimaryCategory              13\n",
       "SubCategory                  89\n",
       "CasId                       134\n",
       "ChemicalId                58079\n",
       "ChemicalName                123\n",
       "InitialDateReported        2274\n",
       "MostRecentDateReported     2178\n",
       "ChemicalCreatedAt          2320\n",
       "ChemicalUpdatedAt          2326\n",
       "ChemicalCount                10\n",
       "dtype: int64"
      ]
     },
     "execution_count": 30,
     "metadata": {},
     "output_type": "execute_result"
    }
   ],
   "source": [
    "data.nunique()"
   ]
  },
  {
   "cell_type": "markdown",
   "id": "06d75004-0b45-46cf-97fb-7efa40f1ed49",
   "metadata": {},
   "source": [
    "There are 33716 different cosmetic products identified in the retail consumer market represented and sold by 2713 Brands. "
   ]
  },
  {
   "cell_type": "markdown",
   "id": "f120298a-144a-4c3e-8a67-622f1036ed32",
   "metadata": {},
   "source": [
    "Each product is categorized among 13 primary categories:"
   ]
  },
  {
   "cell_type": "code",
   "execution_count": 33,
   "id": "c722044b-c6e3-4c1f-90bd-3dfbba49e51b",
   "metadata": {},
   "outputs": [
    {
     "name": "stdout",
     "output_type": "stream",
     "text": [
      "PrimaryCategory\n",
      "Makeup Products (non-permanent)      75827\n",
      "Nail Products                        15347\n",
      "Skin Care Products                    7683\n",
      "Sun-Related Products                  4939\n",
      "Bath Products                         3466\n",
      "Hair Coloring Products                2061\n",
      "Hair Care Products (non-coloring)     1620\n",
      "Tattoos and Permanent Makeup          1477\n",
      "Personal Care Products                 765\n",
      "Fragrances                             654\n",
      "Oral Hygiene Products                  525\n",
      "Shaving Products                       222\n",
      "Baby Products                           49\n",
      "Name: count, dtype: int64\n"
     ]
    }
   ],
   "source": [
    "category_frequency = data['PrimaryCategory'].value_counts()\n",
    "print(category_frequency)"
   ]
  },
  {
   "cell_type": "code",
   "execution_count": 36,
   "id": "e151511d-844c-41f7-ae20-d72ee2c3df72",
   "metadata": {},
   "outputs": [
    {
     "data": {
      "image/png": "[encoded data removed]",
      "text/plain": [
       "<Figure size 1000x600 with 1 Axes>"
      ]
     },
     "metadata": {},
     "output_type": "display_data"
    }
   ],
   "source": [
    "plt.figure(figsize=(10,6))\n",
    "plt.barh(category_frequency.index, category_frequency.values)\n",
    "plt.title('Frequency of each Primary Category')\n",
    "plt.xlabel('Frequency')\n",
    "plt.ylabel('Primary Category')\n",
    "plt.show()"
   ]
  },
  {
   "cell_type": "code",
   "execution_count": null,
   "id": "6220af3a-c227-4e08-a810-86065bd2437c",
   "metadata": {},
   "outputs": [],
   "source": []
  },
  {
   "cell_type": "code",
   "execution_count": null,
   "id": "1bfcf1ad-a7ef-440d-a1ab-4d2ab2dcf6e3",
   "metadata": {},
   "outputs": [],
   "source": []
  },
  {
   "cell_type": "code",
   "execution_count": null,
   "id": "dd28293e-736a-497a-8c4a-6717399a6d12",
   "metadata": {},
   "outputs": [],
   "source": []
  },
  {
   "cell_type": "code",
   "execution_count": null,
   "id": "008ef7cf-579f-4ab2-9c46-0412ae6d5627",
   "metadata": {},
   "outputs": [],
   "source": []
  },
  {
   "cell_type": "code",
   "execution_count": null,
   "id": "7010951d-fc4f-4ab7-823c-b328d4709b10",
   "metadata": {},
   "outputs": [],
   "source": []
  },
  {
   "cell_type": "code",
   "execution_count": null,
   "id": "be45dad7-64d7-42ae-8dde-dab8544fa436",
   "metadata": {},
   "outputs": [],
   "source": []
  },
  {
   "cell_type": "code",
   "execution_count": null,
   "id": "5b7ca188-9514-419b-9f65-676c777db598",
   "metadata": {},
   "outputs": [],
   "source": []
  },
  {
   "cell_type": "code",
   "execution_count": null,
   "id": "529125f9-fcda-4f22-a88e-d0c8b1fb94d7",
   "metadata": {},
   "outputs": [],
   "source": []
  },
  {
   "cell_type": "code",
   "execution_count": null,
   "id": "390f8fff-459b-42bc-bc81-afb402685617",
   "metadata": {},
   "outputs": [],
   "source": []
  }
 ],
 "metadata": {
  "kernelspec": {
   "display_name": "mid_project_env",
   "language": "python",
   "name": "mid_project_env"
  },
  "language_info": {
   "codemirror_mode": {
    "name": "ipython",
    "version": 3
   },
   "file_extension": ".py",
   "mimetype": "text/x-python",
   "name": "python",
   "nbconvert_exporter": "python",
   "pygments_lexer": "ipython3",
   "version": "3.10.9"
  }
 },
 "nbformat": 4,
 "nbformat_minor": 5
}
